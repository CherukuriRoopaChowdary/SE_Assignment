{
 "cells": [
  {
   "cell_type": "code",
   "execution_count": 2,
   "id": "98106882",
   "metadata": {},
   "outputs": [],
   "source": [
    "import json\n",
    "import csv\n",
    "import pandas as pd\n",
    "from sklearn.model_selection import train_test_split\n",
    "from sklearn.dummy import DummyClassifier\n",
    "from sklearn.metrics import accuracy_score, classification_report\n",
    "from sklearn.feature_extraction.text import TfidfVectorizer\n",
    "from nltk.sentiment.vader import SentimentIntensityAnalyzer"
   ]
  },
  {
   "cell_type": "code",
   "execution_count": 3,
   "id": "6ad94285",
   "metadata": {},
   "outputs": [],
   "source": [
    "def get_prompts_answers(json_data):\n",
    "    prompts = []\n",
    "    answers = []\n",
    "    \n",
    "    for source in json_data['Sources']:\n",
    "        for convo in source['ChatgptSharing']:\n",
    "            if 'Conversations' in convo:\n",
    "                for c in convo['Conversations']:\n",
    "                    prompts.append(c['Prompt'])\n",
    "                    answers.append(c['Answer'])\n",
    "                    \n",
    "    return prompts, answers"
   ]
  },
  {
   "cell_type": "code",
   "execution_count": 4,
   "id": "e230bb13",
   "metadata": {},
   "outputs": [],
   "source": [
    "def write_to_csv(prompts, answers, csv_file):\n",
    "    with open(csv_file, 'w', encoding='utf-8') as f: \n",
    "        writer = csv.writer(f)  \n",
    "        writer.writerow(['Prompt', 'Answer'])\n",
    "            \n",
    "        for p, a in zip(prompts, answers):\n",
    "            p = p.encode('utf-8', 'ignore').decode('utf-8') \n",
    "            a = a.encode('utf-8', 'ignore').decode('utf-8')\n",
    "            writer.writerow([p, a])\n"
   ]
  },
  {
   "cell_type": "code",
   "execution_count": 5,
   "id": "f2f4c901",
   "metadata": {},
   "outputs": [],
   "source": [
    "# Usage\n",
    "with open('C:/Users/bkeer/Downloads/discussion_sharings.json') as f:\n",
    "    data = json.load(f)\n",
    "    \n",
    "prompts, answers = get_prompts_answers(data) \n",
    "\n",
    "csv_file = 'prompts_answers.csv'\n",
    "write_to_csv(prompts, answers, csv_file)\n"
   ]
  },
  {
   "cell_type": "code",
   "execution_count": 6,
   "id": "6da7cc02",
   "metadata": {},
   "outputs": [],
   "source": [
    "# Read the CSV\n",
    "df = pd.read_csv('prompts_answers.csv')"
   ]
  },
  {
   "cell_type": "code",
   "execution_count": 9,
   "id": "3b1e5ac4",
   "metadata": {},
   "outputs": [
    {
     "name": "stderr",
     "output_type": "stream",
     "text": [
      "[nltk_data] Downloading package vader_lexicon to\n",
      "[nltk_data]     C:\\Users\\bkeer\\AppData\\Roaming\\nltk_data...\n"
     ]
    }
   ],
   "source": [
    "import nltk\n",
    "nltk.download('vader_lexicon')\n",
    "sid = SentimentIntensityAnalyzer()"
   ]
  },
  {
   "cell_type": "code",
   "execution_count": 10,
   "id": "a5f09a9b",
   "metadata": {},
   "outputs": [],
   "source": [
    "df['Sentiment'] = df['Answer'].apply(lambda x: sid.polarity_scores(str(x))['compound'])"
   ]
  },
  {
   "cell_type": "code",
   "execution_count": 11,
   "id": "5dfb941f",
   "metadata": {},
   "outputs": [],
   "source": [
    "df['ConversationLength'] = df['Answer'].apply(lambda x: len(str(x)))\n"
   ]
  },
  {
   "cell_type": "code",
   "execution_count": 12,
   "id": "1c07fd4f",
   "metadata": {},
   "outputs": [],
   "source": [
    "df['SentimentLabel'] = df['Sentiment'].apply(lambda x: 1 if x >= 0.1 else 0)"
   ]
  },
  {
   "cell_type": "code",
   "execution_count": 13,
   "id": "91a7df32",
   "metadata": {},
   "outputs": [],
   "source": [
    "df['UserExperience'] = df['Sentiment'] * df['ConversationLength']\n"
   ]
  },
  {
   "cell_type": "code",
   "execution_count": 15,
   "id": "852dba41",
   "metadata": {},
   "outputs": [],
   "source": [
    "import numpy as np\n",
    "tfidf = TfidfVectorizer()\n",
    "prompts_tfidf = tfidf.fit_transform(df['Prompt'])\n",
    "responses_tfidf = tfidf.transform(df['Answer'])\n",
    "features = np.hstack((prompts_tfidf.toarray(), responses_tfidf.toarray(),\n",
    "                      df['Sentiment'].values.reshape(-1, 1),\n",
    "                      df['ConversationLength'].values.reshape(-1, 1),\n",
    "                      df['UserExperience'].values.reshape(-1, 1)))"
   ]
  },
  {
   "cell_type": "code",
   "execution_count": 16,
   "id": "8c3ab87d",
   "metadata": {},
   "outputs": [],
   "source": [
    "sentiment_features = df['Sentiment'].values.reshape(-1, 1)\n"
   ]
  },
  {
   "cell_type": "code",
   "execution_count": 17,
   "id": "70d4a887",
   "metadata": {},
   "outputs": [],
   "source": [
    "sentiment_labels = df['SentimentLabel'].values"
   ]
  },
  {
   "cell_type": "code",
   "execution_count": 18,
   "id": "8acfe2d9",
   "metadata": {},
   "outputs": [],
   "source": [
    "X_sentiment_train, X_sentiment_test, y_sentiment_train, y_sentiment_test = train_test_split(\n",
    "    sentiment_features, sentiment_labels, test_size=0.2, random_state=42)"
   ]
  },
  {
   "cell_type": "code",
   "execution_count": 19,
   "id": "0171d311",
   "metadata": {},
   "outputs": [
    {
     "data": {
      "text/html": [
       "<style>#sk-container-id-1 {color: black;}#sk-container-id-1 pre{padding: 0;}#sk-container-id-1 div.sk-toggleable {background-color: white;}#sk-container-id-1 label.sk-toggleable__label {cursor: pointer;display: block;width: 100%;margin-bottom: 0;padding: 0.3em;box-sizing: border-box;text-align: center;}#sk-container-id-1 label.sk-toggleable__label-arrow:before {content: \"▸\";float: left;margin-right: 0.25em;color: #696969;}#sk-container-id-1 label.sk-toggleable__label-arrow:hover:before {color: black;}#sk-container-id-1 div.sk-estimator:hover label.sk-toggleable__label-arrow:before {color: black;}#sk-container-id-1 div.sk-toggleable__content {max-height: 0;max-width: 0;overflow: hidden;text-align: left;background-color: #f0f8ff;}#sk-container-id-1 div.sk-toggleable__content pre {margin: 0.2em;color: black;border-radius: 0.25em;background-color: #f0f8ff;}#sk-container-id-1 input.sk-toggleable__control:checked~div.sk-toggleable__content {max-height: 200px;max-width: 100%;overflow: auto;}#sk-container-id-1 input.sk-toggleable__control:checked~label.sk-toggleable__label-arrow:before {content: \"▾\";}#sk-container-id-1 div.sk-estimator input.sk-toggleable__control:checked~label.sk-toggleable__label {background-color: #d4ebff;}#sk-container-id-1 div.sk-label input.sk-toggleable__control:checked~label.sk-toggleable__label {background-color: #d4ebff;}#sk-container-id-1 input.sk-hidden--visually {border: 0;clip: rect(1px 1px 1px 1px);clip: rect(1px, 1px, 1px, 1px);height: 1px;margin: -1px;overflow: hidden;padding: 0;position: absolute;width: 1px;}#sk-container-id-1 div.sk-estimator {font-family: monospace;background-color: #f0f8ff;border: 1px dotted black;border-radius: 0.25em;box-sizing: border-box;margin-bottom: 0.5em;}#sk-container-id-1 div.sk-estimator:hover {background-color: #d4ebff;}#sk-container-id-1 div.sk-parallel-item::after {content: \"\";width: 100%;border-bottom: 1px solid gray;flex-grow: 1;}#sk-container-id-1 div.sk-label:hover label.sk-toggleable__label {background-color: #d4ebff;}#sk-container-id-1 div.sk-serial::before {content: \"\";position: absolute;border-left: 1px solid gray;box-sizing: border-box;top: 0;bottom: 0;left: 50%;z-index: 0;}#sk-container-id-1 div.sk-serial {display: flex;flex-direction: column;align-items: center;background-color: white;padding-right: 0.2em;padding-left: 0.2em;position: relative;}#sk-container-id-1 div.sk-item {position: relative;z-index: 1;}#sk-container-id-1 div.sk-parallel {display: flex;align-items: stretch;justify-content: center;background-color: white;position: relative;}#sk-container-id-1 div.sk-item::before, #sk-container-id-1 div.sk-parallel-item::before {content: \"\";position: absolute;border-left: 1px solid gray;box-sizing: border-box;top: 0;bottom: 0;left: 50%;z-index: -1;}#sk-container-id-1 div.sk-parallel-item {display: flex;flex-direction: column;z-index: 1;position: relative;background-color: white;}#sk-container-id-1 div.sk-parallel-item:first-child::after {align-self: flex-end;width: 50%;}#sk-container-id-1 div.sk-parallel-item:last-child::after {align-self: flex-start;width: 50%;}#sk-container-id-1 div.sk-parallel-item:only-child::after {width: 0;}#sk-container-id-1 div.sk-dashed-wrapped {border: 1px dashed gray;margin: 0 0.4em 0.5em 0.4em;box-sizing: border-box;padding-bottom: 0.4em;background-color: white;}#sk-container-id-1 div.sk-label label {font-family: monospace;font-weight: bold;display: inline-block;line-height: 1.2em;}#sk-container-id-1 div.sk-label-container {text-align: center;}#sk-container-id-1 div.sk-container {/* jupyter's `normalize.less` sets `[hidden] { display: none; }` but bootstrap.min.css set `[hidden] { display: none !important; }` so we also need the `!important` here to be able to override the default hidden behavior on the sphinx rendered scikit-learn.org. See: https://github.com/scikit-learn/scikit-learn/issues/21755 */display: inline-block !important;position: relative;}#sk-container-id-1 div.sk-text-repr-fallback {display: none;}</style><div id=\"sk-container-id-1\" class=\"sk-top-container\"><div class=\"sk-text-repr-fallback\"><pre>DummyClassifier(strategy=&#x27;uniform&#x27;)</pre><b>In a Jupyter environment, please rerun this cell to show the HTML representation or trust the notebook. <br />On GitHub, the HTML representation is unable to render, please try loading this page with nbviewer.org.</b></div><div class=\"sk-container\" hidden><div class=\"sk-item\"><div class=\"sk-estimator sk-toggleable\"><input class=\"sk-toggleable__control sk-hidden--visually\" id=\"sk-estimator-id-1\" type=\"checkbox\" checked><label for=\"sk-estimator-id-1\" class=\"sk-toggleable__label sk-toggleable__label-arrow\">DummyClassifier</label><div class=\"sk-toggleable__content\"><pre>DummyClassifier(strategy=&#x27;uniform&#x27;)</pre></div></div></div></div></div>"
      ],
      "text/plain": [
       "DummyClassifier(strategy='uniform')"
      ]
     },
     "execution_count": 19,
     "metadata": {},
     "output_type": "execute_result"
    }
   ],
   "source": [
    "sentiment_model = DummyClassifier(strategy='uniform')  # 'uniform' means random predictions\n",
    "sentiment_model.fit(X_sentiment_train, y_sentiment_train)"
   ]
  },
  {
   "cell_type": "code",
   "execution_count": 20,
   "id": "59bf716c",
   "metadata": {},
   "outputs": [],
   "source": [
    "sentiment_predictions = sentiment_model.predict(X_sentiment_test)"
   ]
  },
  {
   "cell_type": "code",
   "execution_count": 21,
   "id": "d783a618",
   "metadata": {},
   "outputs": [],
   "source": [
    "sentiment_accuracy = accuracy_score(y_sentiment_test, sentiment_predictions)\n",
    "sentiment_report = classification_report(y_sentiment_test, sentiment_predictions)"
   ]
  },
  {
   "cell_type": "code",
   "execution_count": 22,
   "id": "e86c2231",
   "metadata": {},
   "outputs": [
    {
     "name": "stdout",
     "output_type": "stream",
     "text": [
      "Sentiment Analysis \n",
      "Accuracy: 0.47368421052631576\n",
      "Classification Report:\n",
      "               precision    recall  f1-score   support\n",
      "\n",
      "           0       0.20      0.50      0.29         8\n",
      "           1       0.78      0.47      0.58        30\n",
      "\n",
      "    accuracy                           0.47        38\n",
      "   macro avg       0.49      0.48      0.43        38\n",
      "weighted avg       0.66      0.47      0.52        38\n",
      "\n"
     ]
    }
   ],
   "source": [
    "\n",
    "print(f\"Sentiment Analysis \")\n",
    "print(f\"Accuracy: {sentiment_accuracy}\")\n",
    "print(\"Classification Report:\\n\", sentiment_report)"
   ]
  },
  {
   "cell_type": "code",
   "execution_count": 23,
   "id": "3ed7de89",
   "metadata": {},
   "outputs": [],
   "source": [
    "# Extract features and labels for the original classification task\n",
    "import numpy as np\n",
    "original_labels = df['SentimentLabel'].values  # Assuming SentimentLabel is the relevant column\n",
    "\n",
    "# TF-IDF vectorization for prompts and responses\n",
    "tfidf = TfidfVectorizer()\n",
    "prompts_tfidf = tfidf.fit_transform(df['Prompt'])\n",
    "responses_tfidf = tfidf.transform(df['Answer'])\n",
    "features = np.hstack((prompts_tfidf.toarray(), responses_tfidf.toarray()))\n",
    "\n",
    "# Train-test split for the original task\n",
    "X_original_train, X_original_test, y_original_train, y_original_test = train_test_split(\n",
    "    features, original_labels, test_size=0.2, random_state=42)\n"
   ]
  },
  {
   "cell_type": "code",
   "execution_count": 24,
   "id": "1534fbb5",
   "metadata": {},
   "outputs": [
    {
     "data": {
      "text/html": [
       "<style>#sk-container-id-2 {color: black;}#sk-container-id-2 pre{padding: 0;}#sk-container-id-2 div.sk-toggleable {background-color: white;}#sk-container-id-2 label.sk-toggleable__label {cursor: pointer;display: block;width: 100%;margin-bottom: 0;padding: 0.3em;box-sizing: border-box;text-align: center;}#sk-container-id-2 label.sk-toggleable__label-arrow:before {content: \"▸\";float: left;margin-right: 0.25em;color: #696969;}#sk-container-id-2 label.sk-toggleable__label-arrow:hover:before {color: black;}#sk-container-id-2 div.sk-estimator:hover label.sk-toggleable__label-arrow:before {color: black;}#sk-container-id-2 div.sk-toggleable__content {max-height: 0;max-width: 0;overflow: hidden;text-align: left;background-color: #f0f8ff;}#sk-container-id-2 div.sk-toggleable__content pre {margin: 0.2em;color: black;border-radius: 0.25em;background-color: #f0f8ff;}#sk-container-id-2 input.sk-toggleable__control:checked~div.sk-toggleable__content {max-height: 200px;max-width: 100%;overflow: auto;}#sk-container-id-2 input.sk-toggleable__control:checked~label.sk-toggleable__label-arrow:before {content: \"▾\";}#sk-container-id-2 div.sk-estimator input.sk-toggleable__control:checked~label.sk-toggleable__label {background-color: #d4ebff;}#sk-container-id-2 div.sk-label input.sk-toggleable__control:checked~label.sk-toggleable__label {background-color: #d4ebff;}#sk-container-id-2 input.sk-hidden--visually {border: 0;clip: rect(1px 1px 1px 1px);clip: rect(1px, 1px, 1px, 1px);height: 1px;margin: -1px;overflow: hidden;padding: 0;position: absolute;width: 1px;}#sk-container-id-2 div.sk-estimator {font-family: monospace;background-color: #f0f8ff;border: 1px dotted black;border-radius: 0.25em;box-sizing: border-box;margin-bottom: 0.5em;}#sk-container-id-2 div.sk-estimator:hover {background-color: #d4ebff;}#sk-container-id-2 div.sk-parallel-item::after {content: \"\";width: 100%;border-bottom: 1px solid gray;flex-grow: 1;}#sk-container-id-2 div.sk-label:hover label.sk-toggleable__label {background-color: #d4ebff;}#sk-container-id-2 div.sk-serial::before {content: \"\";position: absolute;border-left: 1px solid gray;box-sizing: border-box;top: 0;bottom: 0;left: 50%;z-index: 0;}#sk-container-id-2 div.sk-serial {display: flex;flex-direction: column;align-items: center;background-color: white;padding-right: 0.2em;padding-left: 0.2em;position: relative;}#sk-container-id-2 div.sk-item {position: relative;z-index: 1;}#sk-container-id-2 div.sk-parallel {display: flex;align-items: stretch;justify-content: center;background-color: white;position: relative;}#sk-container-id-2 div.sk-item::before, #sk-container-id-2 div.sk-parallel-item::before {content: \"\";position: absolute;border-left: 1px solid gray;box-sizing: border-box;top: 0;bottom: 0;left: 50%;z-index: -1;}#sk-container-id-2 div.sk-parallel-item {display: flex;flex-direction: column;z-index: 1;position: relative;background-color: white;}#sk-container-id-2 div.sk-parallel-item:first-child::after {align-self: flex-end;width: 50%;}#sk-container-id-2 div.sk-parallel-item:last-child::after {align-self: flex-start;width: 50%;}#sk-container-id-2 div.sk-parallel-item:only-child::after {width: 0;}#sk-container-id-2 div.sk-dashed-wrapped {border: 1px dashed gray;margin: 0 0.4em 0.5em 0.4em;box-sizing: border-box;padding-bottom: 0.4em;background-color: white;}#sk-container-id-2 div.sk-label label {font-family: monospace;font-weight: bold;display: inline-block;line-height: 1.2em;}#sk-container-id-2 div.sk-label-container {text-align: center;}#sk-container-id-2 div.sk-container {/* jupyter's `normalize.less` sets `[hidden] { display: none; }` but bootstrap.min.css set `[hidden] { display: none !important; }` so we also need the `!important` here to be able to override the default hidden behavior on the sphinx rendered scikit-learn.org. See: https://github.com/scikit-learn/scikit-learn/issues/21755 */display: inline-block !important;position: relative;}#sk-container-id-2 div.sk-text-repr-fallback {display: none;}</style><div id=\"sk-container-id-2\" class=\"sk-top-container\"><div class=\"sk-text-repr-fallback\"><pre>RandomForestClassifier(random_state=42)</pre><b>In a Jupyter environment, please rerun this cell to show the HTML representation or trust the notebook. <br />On GitHub, the HTML representation is unable to render, please try loading this page with nbviewer.org.</b></div><div class=\"sk-container\" hidden><div class=\"sk-item\"><div class=\"sk-estimator sk-toggleable\"><input class=\"sk-toggleable__control sk-hidden--visually\" id=\"sk-estimator-id-2\" type=\"checkbox\" checked><label for=\"sk-estimator-id-2\" class=\"sk-toggleable__label sk-toggleable__label-arrow\">RandomForestClassifier</label><div class=\"sk-toggleable__content\"><pre>RandomForestClassifier(random_state=42)</pre></div></div></div></div></div>"
      ],
      "text/plain": [
       "RandomForestClassifier(random_state=42)"
      ]
     },
     "execution_count": 24,
     "metadata": {},
     "output_type": "execute_result"
    }
   ],
   "source": [
    "from sklearn.ensemble import RandomForestClassifier\n",
    "# Initialize and train the random forest classifier for the original task\n",
    "original_model = RandomForestClassifier(random_state=42)  # Using RandomForestClassifier\n",
    "original_model.fit(X_original_train, y_original_train)"
   ]
  },
  {
   "cell_type": "code",
   "execution_count": 25,
   "id": "fcb9190a",
   "metadata": {},
   "outputs": [],
   "source": [
    "original_predictions = original_model.predict(X_original_test)"
   ]
  },
  {
   "cell_type": "code",
   "execution_count": null,
   "id": "ac384058",
   "metadata": {},
   "outputs": [],
   "source": [
    "\n"
   ]
  }
 ],
 "metadata": {
  "kernelspec": {
   "display_name": "Python 3 (ipykernel)",
   "language": "python",
   "name": "python3"
  },
  "language_info": {
   "codemirror_mode": {
    "name": "ipython",
    "version": 3
   },
   "file_extension": ".py",
   "mimetype": "text/x-python",
   "name": "python",
   "nbconvert_exporter": "python",
   "pygments_lexer": "ipython3",
   "version": "3.11.5"
  }
 },
 "nbformat": 4,
 "nbformat_minor": 5
}
